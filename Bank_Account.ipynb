{
 "cells": [
  {
   "cell_type": "markdown",
   "metadata": {},
   "source": [
    "# Bank Accounts"
   ]
  },
  {
   "cell_type": "markdown",
   "metadata": {},
   "source": [
    "### Part 1: Bank Account"
   ]
  },
  {
   "cell_type": "code",
   "execution_count": 7,
   "metadata": {},
   "outputs": [],
   "source": [
    "class BankAccount:\n",
    "    def __init__(self,balance,interest_rate,monthly_fee,customer):\n",
    "        self.balance =balance\n",
    "        self.interest_rate = interest_rate\n",
    "        self.monthly_fee = monthly_fee\n",
    "        self.customer = customer\n",
    "\n",
    "    def deposit(self,amount):\n",
    "        self.balance += amount\n",
    "        return self.balance\n",
    "    \n",
    "\n",
    "    def withdraw(self,amount):\n",
    "        if self.balance <= 0:\n",
    "            return 'insufficient funds'\n",
    "        else:\n",
    "            self.balance -= amount\n",
    "    def transfer(self,amount):\n",
    "        self.balance -= amount\n",
    "        return self.balance\n",
    "\n",
    "    def finish_month(self):\n",
    "        self.balance = self.balance + self.balance*self.interest_rate/12 - self.monthly_fee\n",
    "        return self.balance"
   ]
  },
  {
   "cell_type": "markdown",
   "metadata": {},
   "source": [
    "### Part 2: Bank"
   ]
  },
  {
   "cell_type": "code",
   "execution_count": 8,
   "metadata": {},
   "outputs": [],
   "source": [
    "class Bank:\n",
    "    def __init__(self,accounts):\n",
    "        self.__accounts = accounts\n",
    "        \n",
    "    def withdraw(self,bank_account_number,amount,password):\n",
    "        if len(bank_account_number) == 10:\n",
    "            account = self.__accounts.get(bank_account_number)\n",
    "\n",
    "            if account is None:\n",
    "                raise Exception(\"Account does not exist.\")\n",
    "\n",
    "            if account.customer.check_password(password) is False:\n",
    "                raise Exception(\"wrong password\")\n",
    "        else:\n",
    "            raise Exception(\"invalid account number\")\n",
    "\n",
    "\n",
    "        account.withdraw(amount)\n",
    "        return account.balance\n",
    "\n",
    "    \n",
    "    def deposit(self,bank_account_number,amount):\n",
    "        if len(bank_account_number) == 10:\n",
    "            account = self.__accounts.get(bank_account_number)\n",
    "\n",
    "            if account is None:\n",
    "                raise Exception(\"Account does not exist.\")\n",
    "\n",
    "        else:\n",
    "            raise Exception(\"invalid account number\")\n",
    "\n",
    "        account.deposit(amount)\n",
    "        return account.balance\n",
    "\n",
    "\n",
    "\n",
    "    def transfer(self,bank_account_number,amount,password):\n",
    "\n",
    "\n",
    "        if len(bank_account_number) == 10:\n",
    "            account = self.__accounts.get(bank_account_number)\n",
    "\n",
    "            if account is None:\n",
    "                raise Exception(\"Account does not exist.\")\n",
    "\n",
    "            if account.customer.check_password(password) is False:\n",
    "                raise Exception(\"wrong password\")\n",
    "        else:\n",
    "            raise Exception(\"invalid account number\")\n",
    "\n",
    "\n",
    "        account.transfer(amount)\n",
    "        return account.balance\n"
   ]
  },
  {
   "cell_type": "markdown",
   "metadata": {},
   "source": [
    "### Part 3: Customer"
   ]
  },
  {
   "cell_type": "code",
   "execution_count": 13,
   "metadata": {},
   "outputs": [],
   "source": [
    "class Customer:\n",
    "    def __init__(self, secret_password):\n",
    "        self.__secret_password = secret_password\n",
    "\n",
    "    def set_password(self, new_password):\n",
    "        self.__secret_password = new_password\n",
    "\n",
    "    def check_password(self, password):\n",
    "        return self.__secret_password == password\n",
    "    \n",
    "Ann = Customer(6879)\n",
    "Jacob = Customer(9517)"
   ]
  },
  {
   "cell_type": "markdown",
   "metadata": {},
   "source": [
    "### ALL CUSTOMERS"
   ]
  },
  {
   "cell_type": "code",
   "execution_count": 14,
   "metadata": {},
   "outputs": [],
   "source": [
    "Accounts = { \"1234567890\": BankAccount(0.12, 50, 1000, Ann),\n",
    "            \"2468097531\":BankAccount(0.12, 50, 2000, Jacob),\n",
    "            \"1357908642\":BankAccount(0.12, 50, 1800, Jacob)}"
   ]
  },
  {
   "cell_type": "markdown",
   "metadata": {},
   "source": [
    "### Tests"
   ]
  },
  {
   "cell_type": "code",
   "execution_count": 15,
   "metadata": {},
   "outputs": [
    {
     "name": "stdout",
     "output_type": "stream",
     "text": [
      "-999.88\n",
      "5000.12\n",
      "-199.88\n"
     ]
    }
   ],
   "source": [
    "banking = Bank(Accounts)\n",
    "print(banking.withdraw(\"1234567890\", 1000, 6879))\n",
    "print(banking.deposit(\"2468097531\",5000))\n",
    "print(banking.transfer(\"1357908642\",200,9517))"
   ]
  },
  {
   "cell_type": "code",
   "execution_count": null,
   "metadata": {},
   "outputs": [],
   "source": []
  }
 ],
 "metadata": {
  "kernelspec": {
   "display_name": "Python 3",
   "language": "python",
   "name": "python3"
  },
  "language_info": {
   "codemirror_mode": {
    "name": "ipython",
    "version": 3
   },
   "file_extension": ".py",
   "mimetype": "text/x-python",
   "name": "python",
   "nbconvert_exporter": "python",
   "pygments_lexer": "ipython3",
   "version": "3.6.9"
  }
 },
 "nbformat": 4,
 "nbformat_minor": 4
}
