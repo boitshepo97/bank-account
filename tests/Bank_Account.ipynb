{
 "cells": [
  {
   "cell_type": "markdown",
   "metadata": {},
   "source": [
    "# Bank Accounts"
   ]
  },
  {
   "cell_type": "markdown",
   "metadata": {},
   "source": [
    "### Part 1: Bank Account"
   ]
  },
  {
   "cell_type": "code",
   "execution_count": 1,
   "metadata": {},
   "outputs": [],
   "source": [
    "class BankAccount:\n",
    "    def __init__(self,balance = 1000,interest = 0.12,fee = 50):\n",
    "        self.balance = 1000\n",
    "        self.interest = 12\n",
    "        self.fee = 50\n",
    "\n",
    "    def finish_month(self):\n",
    "        \"\"\" This function will update the balance accordingly.\"\"\"\n",
    "        self.balance = self.balance + ((self.balance * 0.12)/ 12) - self.fee\n",
    "        return self.balance\n",
    "\n",
    "    def deposit(self):\n",
    "        self.amount = float(input(\"Deposit amount: \"))\n",
    "        self.balance += self.amount\n",
    "        return self.balance\n",
    "        \n",
    "    def withdraw(self): \n",
    "        self.amount = float(input(\"Withdraw Amount: \")) \n",
    "        if self.balance >= self.amount: \n",
    "            self.balance -= self.amount \n",
    "            return self.balance  \n",
    "        else: \n",
    "            return \"Insufficient Funds\""
   ]
  },
  {
   "cell_type": "markdown",
   "metadata": {},
   "source": [
    "### Part 1: Test"
   ]
  },
  {
   "cell_type": "code",
   "execution_count": 2,
   "metadata": {},
   "outputs": [],
   "source": [
    "M1 = BankAccount(1000)"
   ]
  },
  {
   "cell_type": "code",
   "execution_count": 3,
   "metadata": {},
   "outputs": [
    {
     "name": "stdout",
     "output_type": "stream",
     "text": [
      "R960.0\n"
     ]
    }
   ],
   "source": [
    "print(f\"R{M1.finish_month()}\")"
   ]
  },
  {
   "cell_type": "code",
   "execution_count": 4,
   "metadata": {},
   "outputs": [
    {
     "name": "stdout",
     "output_type": "stream",
     "text": [
      "Deposit amount: 200\n",
      "R1160.0\n"
     ]
    }
   ],
   "source": [
    "print(f\"R{M1.deposit()}\")"
   ]
  },
  {
   "cell_type": "code",
   "execution_count": 5,
   "metadata": {},
   "outputs": [
    {
     "name": "stdout",
     "output_type": "stream",
     "text": [
      "Withdraw Amount: 300\n",
      "860.0\n"
     ]
    }
   ],
   "source": [
    "print(f\"{M1.withdraw()}\")"
   ]
  },
  {
   "cell_type": "markdown",
   "metadata": {},
   "source": [
    "  "
   ]
  },
  {
   "cell_type": "markdown",
   "metadata": {},
   "source": [
    "### Part 2: Bank"
   ]
  },
  {
   "cell_type": "code",
   "execution_count": 6,
   "metadata": {},
   "outputs": [],
   "source": [
    "class Bank:\n",
    "    def __init__(self, bank_account_number, balance = 1000):  \n",
    "        self.balance = 1000\n",
    "        self.bank_account_number = bank_account_number\n",
    "   \n",
    "    def withdraw(self): \n",
    "        self.bank_account_number = int(input(\"Account Number withdrawing from: \")) \n",
    "        amount = float(input(\"Withdraw Amount: \")) \n",
    "        if self.balance >= amount: \n",
    "            self.balance -= amount \n",
    "            return self.balance  \n",
    "        else: \n",
    "            return \"Insufficient balance\"\n",
    "        \n",
    "    def deposit(self):\n",
    "        self.bank_account_number = int(input(\"Account Number depositing into: \")) \n",
    "        amount = float(input(\"Deposit Amount: \"))\n",
    "        self.balance += amount\n",
    "        return self.balance\n",
    "    \n",
    "    def transfer(self):\n",
    "        self.from_bank_account_number = int(input(\"Account Number transferring from: \"))\n",
    "        self.to_bank_account_number = int(input(\"Account Number transferring to: \"))\n",
    "        amount = float(input(\"Transfer Amount: \"))\n",
    "        if self.balance >= amount:\n",
    "            self.balance -= amount\n",
    "            print(self.balance)\n",
    "            return \"Transfer Successful\"  \n",
    "        else: \n",
    "            return \"Insufficient Funds\""
   ]
  },
  {
   "cell_type": "markdown",
   "metadata": {},
   "source": [
    "  "
   ]
  },
  {
   "cell_type": "markdown",
   "metadata": {},
   "source": [
    "### Part 2: Test"
   ]
  },
  {
   "cell_type": "code",
   "execution_count": 7,
   "metadata": {},
   "outputs": [],
   "source": [
    "B = Bank(2468097531,1000)"
   ]
  },
  {
   "cell_type": "code",
   "execution_count": 8,
   "metadata": {},
   "outputs": [
    {
     "name": "stdout",
     "output_type": "stream",
     "text": [
      "Account Number withdrawing from: 2468097531\n",
      "Withdraw Amount: 200\n"
     ]
    },
    {
     "data": {
      "text/plain": [
       "800.0"
      ]
     },
     "execution_count": 8,
     "metadata": {},
     "output_type": "execute_result"
    }
   ],
   "source": [
    "B.withdraw()"
   ]
  },
  {
   "cell_type": "code",
   "execution_count": 9,
   "metadata": {},
   "outputs": [
    {
     "name": "stdout",
     "output_type": "stream",
     "text": [
      "Account Number depositing into: 2468097531\n",
      "Deposit Amount: 1234567890\n"
     ]
    },
    {
     "data": {
      "text/plain": [
       "1234568690.0"
      ]
     },
     "execution_count": 9,
     "metadata": {},
     "output_type": "execute_result"
    }
   ],
   "source": [
    "B.deposit()"
   ]
  },
  {
   "cell_type": "code",
   "execution_count": 10,
   "metadata": {},
   "outputs": [
    {
     "name": "stdout",
     "output_type": "stream",
     "text": [
      "Account Number transferring from: 2468097531\n",
      "Account Number transferring to: 1234567890\n",
      "Transfer Amount: 10000000\n",
      "1224568690.0\n"
     ]
    },
    {
     "data": {
      "text/plain": [
       "'Transfer Successful'"
      ]
     },
     "execution_count": 10,
     "metadata": {},
     "output_type": "execute_result"
    }
   ],
   "source": [
    "B.transfer()"
   ]
  },
  {
   "cell_type": "markdown",
   "metadata": {},
   "source": [
    "### Part 3: Customer"
   ]
  },
  {
   "cell_type": "code",
   "execution_count": 14,
   "metadata": {},
   "outputs": [
    {
     "ename": "SyntaxError",
     "evalue": "invalid syntax (<ipython-input-14-020216abd530>, line 8)",
     "output_type": "error",
     "traceback": [
      "\u001b[0;36m  File \u001b[0;32m\"<ipython-input-14-020216abd530>\"\u001b[0;36m, line \u001b[0;32m8\u001b[0m\n\u001b[0;31m    if pin != self.password\u001b[0m\n\u001b[0m                           ^\u001b[0m\n\u001b[0;31mSyntaxError\u001b[0m\u001b[0;31m:\u001b[0m invalid syntax\n"
     ]
    }
   ],
   "source": [
    "class Customer:\n",
    "    def __init_(self,password):\n",
    "        self.balance = balalnce\n",
    "        self.password = password\n",
    "        \n",
    "    def set_password(self):\n",
    "        self.password = int(input(\"Enter Password: \"))\n",
    "        if pinint(input(\"Account Number transferring to: \"))int(input(\"Account Number transferring to: \")) != self.password\n",
    "            return True\n",
    "        else:\n",
    "            raise Exception(\"wrong password\")\n"
   ]
  },
  {
   "cell_type": "code",
   "execution_count": null,
   "metadata": {},
   "outputs": [],
   "source": []
  }
 ],
 "metadata": {
  "kernelspec": {
   "display_name": "Python 3",
   "language": "python",
   "name": "python3"
  },
  "language_info": {
   "codemirror_mode": {
    "name": "ipython",
    "version": 3
   },
   "file_extension": ".py",
   "mimetype": "text/x-python",
   "name": "python",
   "nbconvert_exporter": "python",
   "pygments_lexer": "ipython3",
   "version": "3.6.9"
  }
 },
 "nbformat": 4,
 "nbformat_minor": 4
}
