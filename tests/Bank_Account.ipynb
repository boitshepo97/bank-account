{
 "cells": [
  {
   "cell_type": "markdown",
   "metadata": {},
   "source": [
    "# Bank Accounts"
   ]
  },
  {
   "cell_type": "markdown",
   "metadata": {},
   "source": [
    "### Part 1: Bank Account"
   ]
  },
  {
   "cell_type": "code",
   "execution_count": 1,
   "metadata": {},
   "outputs": [],
   "source": [
    "class BankAccount:\n",
    "    def __init__(self,balance = 1000,interest = 0.12,fee = 50):\n",
    "        self.balance = 1000\n",
    "        self.interest = 12\n",
    "        self.fee = 50\n",
    "\n",
    "    def finish_month(self):\n",
    "        \"\"\" This function will update the balance accordingly.\"\"\"\n",
    "        self.balance = self.balance + ((self.balance * 0.12)/ 12) - self.fee\n",
    "        return self.balance\n",
    "\n",
    "    def deposit(self):\n",
    "        self.amount = float(input(\"Deposit amount: \"))\n",
    "        self.balance += self.amount\n",
    "        return self.balance\n",
    "        \n",
    "    def withdraw(self): \n",
    "        self.amount = float(input(\"Withdraw Amount: \")) \n",
    "        if self.balance >= self.amount: \n",
    "            self.balance -= self.amount \n",
    "            return self.balance  \n",
    "        else: \n",
    "            return \"Insufficient Funds\""
   ]
  },
  {
   "cell_type": "markdown",
   "metadata": {},
   "source": [
    "### Part 1: Test"
   ]
  },
  {
   "cell_type": "code",
   "execution_count": 2,
   "metadata": {},
   "outputs": [],
   "source": [
    "M1 = BankAccount(1000)"
   ]
  },
  {
   "cell_type": "code",
   "execution_count": 3,
   "metadata": {},
   "outputs": [
    {
     "name": "stdout",
     "output_type": "stream",
     "text": [
      "R960.0\n"
     ]
    }
   ],
   "source": [
    "print(f\"R{M1.finish_month()}\")"
   ]
  },
  {
   "cell_type": "code",
   "execution_count": 4,
   "metadata": {},
   "outputs": [
    {
     "name": "stdout",
     "output_type": "stream",
     "text": [
      "Deposit amount: 100\n",
      "R1060.0\n"
     ]
    }
   ],
   "source": [
    "print(f\"R{M1.deposit()}\")"
   ]
  },
  {
   "cell_type": "code",
   "execution_count": 5,
   "metadata": {},
   "outputs": [
    {
     "name": "stdout",
     "output_type": "stream",
     "text": [
      "Withdraw Amount: 100\n",
      "960.0\n"
     ]
    }
   ],
   "source": [
    "print(f\"{M1.withdraw()}\")"
   ]
  },
  {
   "cell_type": "markdown",
   "metadata": {},
   "source": [
    "  "
   ]
  },
  {
   "cell_type": "markdown",
   "metadata": {},
   "source": [
    "### Part 2: Bank"
   ]
  },
  {
   "cell_type": "code",
   "execution_count": 6,
   "metadata": {},
   "outputs": [],
   "source": [
    "class Bank:\n",
    "    def __init__(self, bank_account_number, balance = 1000):  \n",
    "        self.balance = 1000\n",
    "        self.__bank_account_number = bank_account_number\n",
    "   \n",
    "    def withdraw(self): \n",
    "        self.__bank_account_number = int(input(\"Account Number withdrawing from: \")) \n",
    "        amount = float(input(\"Withdraw Amount: \")) \n",
    "        if self.balance >= amount: \n",
    "            self.balance -= amount \n",
    "            return self.balance  \n",
    "        else: \n",
    "            return \"Insufficient balance\"\n",
    "        \n",
    "    def deposit(self):\n",
    "        self.__bank_account_number = int(input(\"Account Number depositing into: \")) \n",
    "        amount = float(input(\"Deposit Amount: \"))\n",
    "        self.balance += amount\n",
    "        return self.balance\n",
    "    \n",
    "    def transfer(self):\n",
    "        self.__from_bank_account_number = int(input(\"Account Number transferring from: \"))\n",
    "        self.__to_bank_account_number = int(input(\"Account Number transferring to: \"))\n",
    "        amount = float(input(\"Transfer Amount: \"))\n",
    "        if self.balance >= amount:\n",
    "            self.balance -= amount\n",
    "            print(self.balance)\n",
    "            return \"Transfer Successful\"  \n",
    "        else: \n",
    "            return \"Insufficient Funds\""
   ]
  },
  {
   "cell_type": "markdown",
   "metadata": {},
   "source": [
    "  "
   ]
  },
  {
   "cell_type": "markdown",
   "metadata": {},
   "source": [
    "### Part 2: Test"
   ]
  },
  {
   "cell_type": "code",
   "execution_count": 7,
   "metadata": {},
   "outputs": [],
   "source": [
    "B = Bank(2468097531,1000)"
   ]
  },
  {
   "cell_type": "code",
   "execution_count": 8,
   "metadata": {},
   "outputs": [
    {
     "name": "stdout",
     "output_type": "stream",
     "text": [
      "Account Number withdrawing from: 1234567890\n",
      "Withdraw Amount: 300\n"
     ]
    },
    {
     "data": {
      "text/plain": [
       "700.0"
      ]
     },
     "execution_count": 8,
     "metadata": {},
     "output_type": "execute_result"
    }
   ],
   "source": [
    "B.withdraw()"
   ]
  },
  {
   "cell_type": "code",
   "execution_count": 9,
   "metadata": {},
   "outputs": [
    {
     "name": "stdout",
     "output_type": "stream",
     "text": [
      "Account Number depositing into: 1234567890\n",
      "Deposit Amount: 100\n"
     ]
    },
    {
     "data": {
      "text/plain": [
       "800.0"
      ]
     },
     "execution_count": 9,
     "metadata": {},
     "output_type": "execute_result"
    }
   ],
   "source": [
    "B.deposit()"
   ]
  },
  {
   "cell_type": "code",
   "execution_count": 10,
   "metadata": {},
   "outputs": [
    {
     "name": "stdout",
     "output_type": "stream",
     "text": [
      "Account Number transferring from: 1234567890\n",
      "Account Number transferring to: 2468097531\n",
      "Transfer Amount: 500\n",
      "300.0\n"
     ]
    },
    {
     "data": {
      "text/plain": [
       "'Transfer Successful'"
      ]
     },
     "execution_count": 10,
     "metadata": {},
     "output_type": "execute_result"
    }
   ],
   "source": [
    "B.transfer()"
   ]
  },
  {
   "cell_type": "markdown",
   "metadata": {},
   "source": [
    "### Part 3: Customer"
   ]
  },
  {
   "cell_type": "code",
   "execution_count": 16,
   "metadata": {},
   "outputs": [],
   "source": [
    "class Customer:\n",
    "    def __init_(self,password):\n",
    "        self.balance = balalnce\n",
    "        self.__secret_password = __secret_password\n",
    "        \n",
    "    def set_password(self):\n",
    "        self.__secret_password = int(input(\"Enter Password: \"))\n",
    "        if __secret_password != self.__secret_password:\n",
    "            \n",
    "            return True\n",
    "        else:\n",
    "            raise Exception(\"wrong password\")\n",
    "\n",
    "    def withdraw(self): \n",
    "        self.__password = int(input(\"Enter Password: \"))\n",
    "        self.__bank_account_number = int(input(\"Account Number withdrawing from: \")) \n",
    "        amount = float(input(\"Withdraw Amount: \")) \n",
    "        if self.balance >= amount: \n",
    "            self.balance -= amount \n",
    "            return self.balance  \n",
    "        else: \n",
    "            return \"Insufficient balance\"\n",
    "        \n",
    "    def deposit(self):\n",
    "        self.__bank_account_number = int(input(\"Account Number depositing into: \")) \n",
    "        amount = float(input(\"Deposit Amount: \"))\n",
    "        self.balance += amount\n",
    "        return self.balance\n",
    "    \n",
    "    def transfer(self):\n",
    "        self.__password = int(input(\"Enter Password: \"))\n",
    "        self.__from_bank_account_number = int(input(\"Account Number transferring from: \"))\n",
    "        self.__to_bank_account_number = int(input(\"Account Number transferring to: \"))\n",
    "        amount = float(input(\"Transfer Amount: \"))\n",
    "        if self.balance >= amount:\n",
    "            self.balance -= amount\n",
    "            print(self.balance)\n",
    "            return \"Transfer Successful\"  \n",
    "        else: \n",
    "            return \"Insufficient Funds\""
   ]
  },
  {
   "cell_type": "code",
   "execution_count": 17,
   "metadata": {},
   "outputs": [],
   "source": [
    "p = Customer()"
   ]
  },
  {
   "cell_type": "code",
   "execution_count": 18,
   "metadata": {},
   "outputs": [
    {
     "name": "stdout",
     "output_type": "stream",
     "text": [
      "Enter Password: 123456\n"
     ]
    },
    {
     "ename": "NameError",
     "evalue": "name '_Customer__secret_password' is not defined",
     "output_type": "error",
     "traceback": [
      "\u001b[0;31m---------------------------------------------------------------------------\u001b[0m",
      "\u001b[0;31mNameError\u001b[0m                                 Traceback (most recent call last)",
      "\u001b[0;32m<ipython-input-18-0f9f1678c1ac>\u001b[0m in \u001b[0;36m<module>\u001b[0;34m\u001b[0m\n\u001b[0;32m----> 1\u001b[0;31m \u001b[0mp\u001b[0m\u001b[0;34m.\u001b[0m\u001b[0mset_password\u001b[0m\u001b[0;34m(\u001b[0m\u001b[0;34m)\u001b[0m\u001b[0;34m\u001b[0m\u001b[0;34m\u001b[0m\u001b[0m\n\u001b[0m",
      "\u001b[0;32m<ipython-input-16-8eed976ad8db>\u001b[0m in \u001b[0;36mset_password\u001b[0;34m(self)\u001b[0m\n\u001b[1;32m      6\u001b[0m     \u001b[0;32mdef\u001b[0m \u001b[0mset_password\u001b[0m\u001b[0;34m(\u001b[0m\u001b[0mself\u001b[0m\u001b[0;34m)\u001b[0m\u001b[0;34m:\u001b[0m\u001b[0;34m\u001b[0m\u001b[0;34m\u001b[0m\u001b[0m\n\u001b[1;32m      7\u001b[0m         \u001b[0mself\u001b[0m\u001b[0;34m.\u001b[0m\u001b[0m__secret_password\u001b[0m \u001b[0;34m=\u001b[0m \u001b[0mint\u001b[0m\u001b[0;34m(\u001b[0m\u001b[0minput\u001b[0m\u001b[0;34m(\u001b[0m\u001b[0;34m\"Enter Password: \"\u001b[0m\u001b[0;34m)\u001b[0m\u001b[0;34m)\u001b[0m\u001b[0;34m\u001b[0m\u001b[0;34m\u001b[0m\u001b[0m\n\u001b[0;32m----> 8\u001b[0;31m         \u001b[0;32mif\u001b[0m \u001b[0m__secret_password\u001b[0m \u001b[0;34m!=\u001b[0m \u001b[0mself\u001b[0m\u001b[0;34m.\u001b[0m\u001b[0m__secret_password\u001b[0m\u001b[0;34m:\u001b[0m\u001b[0;34m\u001b[0m\u001b[0;34m\u001b[0m\u001b[0m\n\u001b[0m\u001b[1;32m      9\u001b[0m \u001b[0;34m\u001b[0m\u001b[0m\n\u001b[1;32m     10\u001b[0m             \u001b[0;32mreturn\u001b[0m \u001b[0;32mTrue\u001b[0m\u001b[0;34m\u001b[0m\u001b[0;34m\u001b[0m\u001b[0m\n",
      "\u001b[0;31mNameError\u001b[0m: name '_Customer__secret_password' is not defined"
     ]
    }
   ],
   "source": [
    "p.set_password()"
   ]
  },
  {
   "cell_type": "code",
   "execution_count": null,
   "metadata": {},
   "outputs": [],
   "source": []
  }
 ],
 "metadata": {
  "kernelspec": {
   "display_name": "Python 3",
   "language": "python",
   "name": "python3"
  },
  "language_info": {
   "codemirror_mode": {
    "name": "ipython",
    "version": 3
   },
   "file_extension": ".py",
   "mimetype": "text/x-python",
   "name": "python",
   "nbconvert_exporter": "python",
   "pygments_lexer": "ipython3",
   "version": "3.6.9"
  }
 },
 "nbformat": 4,
 "nbformat_minor": 4
}
