{
 "cells": [
  {
   "cell_type": "markdown",
   "metadata": {},
   "source": [
    "# Bank Accounts"
   ]
  },
  {
   "cell_type": "markdown",
   "metadata": {},
   "source": []
  },
  {
   "cell_type": "markdown",
   "metadata": {},
   "source": [
    "### Part 1: Bank Account"
   ]
  },
  {
   "cell_type": "code",
   "execution_count": 60,
   "metadata": {},
   "outputs": [],
   "source": [
    "class BankAccount:\n",
    "    def __init__(self,balance = 1000,interest = 0.12,fee = 50):\n",
    "        self.balance = 1000\n",
    "        self.interest = 12\n",
    "        self.fee = 50\n",
    "\n",
    "    def finish_month(self):\n",
    "        \"\"\" This function will update the balance accordingly.\"\"\"\n",
    "        self.balance = self.balance + ((self.balance * 0.12)/ 12) - self.fee\n",
    "        return self.balance\n",
    "\n",
    "    def deposit(self):\n",
    "        self.amount = float(input(\"Depositing amount: \"))\n",
    "        self.balance += self.amount\n",
    "        return self.balance\n",
    "        \n",
    "    def withdraw(self): \n",
    "        self.amount = float(input(\"Withdrawing Amount: \")) \n",
    "        if self.balance <= self.amount: \n",
    "            self.balance -= self.amount \n",
    "            print(\"\\n Insufficient balance\") \n",
    "        else: \n",
    "            return self.balance "
   ]
  },
  {
   "cell_type": "code",
   "execution_count": 61,
   "metadata": {},
   "outputs": [],
   "source": [
    "M1 = BankAccount(1000)"
   ]
  },
  {
   "cell_type": "code",
   "execution_count": 62,
   "metadata": {},
   "outputs": [
    {
     "name": "stdout",
     "output_type": "stream",
     "text": [
      "R960.0\n"
     ]
    }
   ],
   "source": [
    "print(f\"R{M1.finish_month()}\")"
   ]
  },
  {
   "cell_type": "code",
   "execution_count": 63,
   "metadata": {},
   "outputs": [
    {
     "name": "stdout",
     "output_type": "stream",
     "text": [
      "Depositing amount: 100\n",
      "R1060.0\n"
     ]
    }
   ],
   "source": [
    "print(f\"R{M1.deposit()}\")"
   ]
  },
  {
   "cell_type": "code",
   "execution_count": 64,
   "metadata": {},
   "outputs": [
    {
     "name": "stdout",
     "output_type": "stream",
     "text": [
      "Withdrawing Amount: 300\n",
      "\n",
      " Insufficient balance\n",
      "RNone\n"
     ]
    }
   ],
   "source": [
    "print(f\"R{M1.withdraw()}\")"
   ]
  },
  {
   "cell_type": "code",
   "execution_count": null,
   "metadata": {},
   "outputs": [],
   "source": []
  },
  {
   "cell_type": "code",
   "execution_count": null,
   "metadata": {},
   "outputs": [],
   "source": []
  }
 ],
 "metadata": {
  "kernelspec": {
   "display_name": "Python 3",
   "language": "python",
   "name": "python3"
  },
  "language_info": {
   "codemirror_mode": {
    "name": "ipython",
    "version": 3
   },
   "file_extension": ".py",
   "mimetype": "text/x-python",
   "name": "python",
   "nbconvert_exporter": "python",
   "pygments_lexer": "ipython3",
   "version": "3.6.9"
  }
 },
 "nbformat": 4,
 "nbformat_minor": 4
}
